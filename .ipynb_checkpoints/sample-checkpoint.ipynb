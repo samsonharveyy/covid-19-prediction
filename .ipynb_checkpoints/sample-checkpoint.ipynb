{
 "cells": [
  {
   "cell_type": "code",
   "execution_count": 7,
   "metadata": {},
   "outputs": [],
   "source": [
    "from rf_helper import performance_metric, evaluate, plot_data, rf_model\n",
    "from sklearn.preprocessing import MinMaxScaler\n",
    "from sklearn.model_selection import TimeSeriesSplit\n",
    "import pandas as pd \n",
    "from sklearn.model_selection import train_test_split"
   ]
  },
  {
   "cell_type": "code",
   "execution_count": 9,
   "metadata": {},
   "outputs": [],
   "source": [
    "#read csv file and get input features and cases\n",
    "data = pd.read_csv('datasets/centralized_database.csv')\n",
    "#x_data = data[['temp', 'humidity', 'precip', 'windspeed', 'pm2.5', 'o3']]\n",
    "#x_data = data[[\"temp\", \"feelslike\", \"humidity\", \"windspeed\", \"precip\", \"pm2.5\", \"pm10\",\"co\",\"so2\",\"no2\",\"o3\"]]\n",
    "x_data = data[['humidity', 'pm2.5', 'precip', 'o3', 'temp']]\n",
    "y_data = data.iloc[:,13:].values"
   ]
  },
  {
   "cell_type": "code",
   "execution_count": 13,
   "metadata": {},
   "outputs": [
    {
     "name": "stdout",
     "output_type": "stream",
     "text": [
      "[[ 274.52340426  543.08228623    3.36308105  919.68755613 1216.95774648]\n",
      " [ 341.26382979  277.18198132    4.14198451  899.39997705 1401.04225352]\n",
      " [1918.40364742  553.99609269   28.28799166  130.31386041  922.42253521]\n",
      " ...\n",
      " [ 759.18601824  206.84649234    2.         1192.94170603 1364.22535211]\n",
      " [ 481.10091185  175.83197204    2.         1150.03538609 1511.49295775]\n",
      " [ 496.99148936  230.4901029     2.         1319.33266037 1437.85915493]]\n"
     ]
    }
   ],
   "source": [
    "#transform and scale back to original\n",
    "scaler = MinMaxScaler()\n",
    "x_data = scaler.fit_transform(x_data)\n",
    "y_data = scaler.fit_transform(y_data)\n",
    "\n",
    "x_data = scaler.inverse_transform(x_data)\n",
    "y_data = scaler.inverse_transform(y_data)"
   ]
  },
  {
   "cell_type": "code",
   "execution_count": null,
   "metadata": {},
   "outputs": [],
   "source": [
    "#training, prediction, and metrics\n",
    "title = \"[No Scale] Testing Set - Random Forest (Dropped)\"\n",
    "rf_x_train, rf_x_test, rf_y_train, rf_y_test = train_test_split(x_data, y_data, test_size=0.2, random_state=0)\n",
    "prediction = rf_model(rf_x_train, rf_y_train, rf_x_test, rf_y_test)\n",
    "plot_data(range(len(prediction[0])), prediction[0], prediction[1], title)\n",
    "\n",
    "performance_metric(prediction[0], prediction[1], x_data)"
   ]
  }
 ],
 "metadata": {
  "interpreter": {
   "hash": "380030d1298d5a27518acca789ff38fe82bbf2e68b73263de6a6bf23efb7704c"
  },
  "kernelspec": {
   "display_name": "Python 3 (ipykernel)",
   "language": "python",
   "name": "python3"
  },
  "language_info": {
   "codemirror_mode": {
    "name": "ipython",
    "version": 3
   },
   "file_extension": ".py",
   "mimetype": "text/x-python",
   "name": "python",
   "nbconvert_exporter": "python",
   "pygments_lexer": "ipython3",
   "version": "3.9.7"
  }
 },
 "nbformat": 4,
 "nbformat_minor": 2
}
